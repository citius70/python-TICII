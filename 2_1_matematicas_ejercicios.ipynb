{
 "cells": [
  {
   "cell_type": "markdown",
   "id": "f45c3f77-5c98-4b36-8cbe-ed7c6301aed0",
   "metadata": {},
   "source": [
    "# Ejercicios de Operaciones Matemáticas en Python\n",
    "\n",
    "En este notebook, practicarás diferentes operaciones matemáticas utilizando Python. Completa los ejercicios a continuación."
   ]
  },
  {
   "cell_type": "markdown",
   "id": "db9e8f5d-d32d-4e93-817d-ffe7fae4442e",
   "metadata": {},
   "source": [
    "## Ejercicio 1: Suma\n",
    "\n",
    "Escribe un código que sume dos números. Por ejemplo, suma 5 y 7.\n",
    "\n",
    "```python\n",
    "# Escribe tu código aquí\n",
    "a = 5\n",
    "b = 7\n",
    "suma = a + b\n",
    "suma"
   ]
  },
  {
   "cell_type": "markdown",
   "id": "fb728277-d97c-4ddb-986c-2af6a8449a94",
   "metadata": {},
   "source": [
    "## Ejercicio 2: Resta\n",
    "\n",
    "Escribe un código que reste dos números. Por ejemplo, resta 10 de 25.\n",
    "\n",
    "```python\n",
    "# Escribe tu código aquí\n",
    "a = 25\n",
    "b = 10\n",
    "resta = a - b\n",
    "resta"
   ]
  },
  {
   "cell_type": "markdown",
   "id": "e7d24dd9-fbe5-4673-91d8-c6a20478bf67",
   "metadata": {},
   "source": [
    "## Ejercicio 3: Multiplicación\n",
    "\n",
    "Escribe un código que multiplique dos números. Por ejemplo, multiplica 4 por 6.\n",
    "\n",
    "```python\n",
    "# Escribe tu código aquí\n",
    "a = 4\n",
    "b = 6\n",
    "multiplicacion = a * b\n",
    "multiplicacion"
   ]
  },
  {
   "cell_type": "markdown",
   "id": "3875baba-e4c4-4b05-b2f8-2e7e9e708c6e",
   "metadata": {},
   "source": [
    "## Ejercicio 4: División\n",
    "\n",
    "Escribe un código que divida dos números. Por ejemplo, divide 20 entre 4.\n",
    "\n",
    "```python\n",
    "# Escribe tu código aquí\n",
    "a = 20\n",
    "b = 4\n",
    "division = a / b\n",
    "division"
   ]
  },
  {
   "cell_type": "markdown",
   "id": "d3a8ad21-1e49-4c91-bdb6-03eff8ffa039",
   "metadata": {},
   "source": [
    "## Ejercicio 5: Potencia\n",
    "\n",
    "Escribe un código que calcule la potencia de un número. Por ejemplo, calcula 2 elevado a la 3.\n",
    "\n",
    "```python\n",
    "# Escribe tu código aquí\n",
    "base = 2\n",
    "exponente = 3\n",
    "potencia = base ** exponente\n",
    "potencia"
   ]
  },
  {
   "cell_type": "code",
   "execution_count": null,
   "id": "4f6f0e38-90ee-4854-809d-5802fca9ff1b",
   "metadata": {},
   "outputs": [],
   "source": [
    "NumA = 2\n",
    "NumB = 3"
   ]
  },
  {
   "cell_type": "code",
   "execution_count": null,
   "id": "5865d0e1-430c-4a39-b754-806892df90bc",
   "metadata": {},
   "outputs": [],
   "source": [
    "# Suma\n",
    "NumB + NumA # output: 5"
   ]
  },
  {
   "cell_type": "code",
   "execution_count": null,
   "id": "3ac597b1-d1c1-447d-9d39-8bbea0bb0abf",
   "metadata": {},
   "outputs": [],
   "source": [
    "# Resta\n",
    "NumB - NumA # output: 1"
   ]
  },
  {
   "cell_type": "code",
   "execution_count": null,
   "id": "12cfa390-d1c5-4af9-bb8b-412b7c454556",
   "metadata": {},
   "outputs": [],
   "source": [
    "# Multiplicación\n",
    "NumB * NumA # output: 6"
   ]
  },
  {
   "cell_type": "code",
   "execution_count": null,
   "id": "bb54e951-5e4e-431a-917e-275f27f00ebb",
   "metadata": {},
   "outputs": [],
   "source": [
    "# Division\n",
    "NumB / NumA # output : 1.5"
   ]
  },
  {
   "cell_type": "code",
   "execution_count": null,
   "id": "1950b9b9-f1ca-4753-8a9a-b9dbaf21ba2c",
   "metadata": {},
   "outputs": [],
   "source": [
    "# Modulo\n",
    "NumB % NumA # output: 1"
   ]
  },
  {
   "cell_type": "code",
   "execution_count": null,
   "id": "3c3f60e8-f9a2-4920-a81a-6a632051bdf3",
   "metadata": {},
   "outputs": [],
   "source": [
    "# Exponenciación\n",
    "NumB**NumA # output 9"
   ]
  },
  {
   "cell_type": "code",
   "execution_count": null,
   "id": "d444851b-a3c2-4349-87ca-5e7b260562fa",
   "metadata": {},
   "outputs": [],
   "source": [
    "# Exponente con pow()\n",
    "pow(NumB, NumA) # output 9"
   ]
  }
 ],
 "metadata": {
  "kernelspec": {
   "display_name": "Python 3 (ipykernel)",
   "language": "python",
   "name": "python3"
  },
  "language_info": {
   "codemirror_mode": {
    "name": "ipython",
    "version": 3
   },
   "file_extension": ".py",
   "mimetype": "text/x-python",
   "name": "python",
   "nbconvert_exporter": "python",
   "pygments_lexer": "ipython3",
   "version": "3.12.8"
  }
 },
 "nbformat": 4,
 "nbformat_minor": 5
}
