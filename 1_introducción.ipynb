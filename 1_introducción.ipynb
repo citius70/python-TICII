{
 "cells": [
  {
   "cell_type": "markdown",
   "metadata": {
    "id": "S4fWekBSjlhQ"
   },
   "source": [
    "# Introducción"
   ]
  },
  {
   "cell_type": "markdown",
   "metadata": {
    "id": "F8rqBkawj1Hu"
   },
   "source": [
    "**Python** es uno de los lenguajes de programación más populares y con un crecimiento más rápido del mundo. Se usa para todo tipo de tareas, como las de **programación web** y **análisis de datos**, y se ha convertido en el lenguaje que hay que conocer para el **aprendizaje automático**. Esa popularidad significa que los desarrolladores de Python están muy solicitados y los trabajos de programación de Python pueden ser rentables.\n",
    "\n",
    "Las razones mencionadas anteriormente representan el por qué podría ser una buena idea aprender a programar en Python. En este módulo se proporcionará una introducción al uso de Python para compilar una aplicación, que puede ser un punto de partida para convertirse en programador de Python.\n",
    "\n",
    "## Objetivos de aprendizaje\n",
    "En este módulo, aprenderá a:\n",
    "*   Explorar las opciones disponibles para ejecutar aplicaciones de Python.\n",
    "*   Usar el intérprete de Python para ejecutar instrucciones y scripts.\n",
    "*   Obtener información sobre cómo declarar variables.\n",
    "*   Compilar una aplicación sencilla de Python que toma una entrada y genera una salida.\n",
    "\n",
    "\n",
    "\n",
    "\n",
    "\n",
    "\n",
    "\n",
    "\n",
    "\n",
    "\n"
   ]
  },
  {
   "cell_type": "markdown",
   "metadata": {
    "id": "K6-wsVRFsLB8"
   },
   "source": [
    "# Variables y tipos de datos básicos"
   ]
  },
  {
   "cell_type": "markdown",
   "metadata": {
    "id": "JrsCg5sosRxa"
   },
   "source": [
    "Las variables son uno de los bloques de creación fundamentales de los programas escritos en Python. Las variables retienen los datos en la memoria. Tienen nombres y se puede hacer referencia a ellas por esos nombres. Las variables también tienen tipos, que especifican el tipo de datos que pueden almacenar (como una cadena y un entero) y se pueden usar en expresiones que usan operadores (como + y -) para manipular los valores.\n",
    "\n",
    "## Variables\n",
    "En Python, se declara una variable y se le asigna un valor mediante el operador de asignación **=**. La variable está en el lado izquierdo del operador y el valor asignado (que puede ser una expresión como 2 + 2 e incluso puede incluir otras variables) se encuentra en el lado derecho. Por ejemplo:"
   ]
  },
  {
   "cell_type": "code",
   "execution_count": 18,
   "metadata": {
    "id": "JrsCg5sosRxa"
   },
   "outputs": [],
   "source": [
    "x = 1         # assign variable x the value 1\n",
    "y = x + 5     # assign variable y the value of x plus 5\n",
    "z = y         # assign variable z the value of y"
   ]
  },
  {
   "cell_type": "markdown",
   "metadata": {
    "id": "JrsCg5sosRxa"
   },
   "source": [
    "Estos ejemplos asignan números a variables, pero los números son solo uno de los varios tipos de datos que se admiten en Python. Observe que no hay ningún tipo declarado para las variables. Python es un lenguaje escrito dinámicamente, lo que significa que el tipo de variable viene determinado por los datos que se le asignan. En los ejemplos anteriores, las variables x y z son tipos enteros, capaces de almacenar números enteros positivos y negativos.\n",
    "\n",
    "Los nombres de variables distinguen entre mayúsculas y minúsculas y pueden usar cualquier letra, número y el carácter de subrayado (_). Sin embargo, no pueden empezar con un número.\n",
    "\n",
    "#Trabajo con números\n",
    "La mayoría de los programas manipulan números. Los equipos tratan números enteros y números decimales de forma distinta. Tenga en cuenta el código siguiente:"
   ]
  },
  {
   "cell_type": "code",
   "execution_count": 19,
   "metadata": {
    "id": "JrsCg5sosRxa"
   },
   "outputs": [],
   "source": [
    "x = 1       # integer\n",
    "x = 1.0     # decimal (floating point)Tiene formato de código"
   ]
  },
  {
   "cell_type": "markdown",
   "metadata": {
    "id": "JrsCg5sosRxa"
   },
   "source": [
    "Python crea enteros a partir de un tipo de datos integrado llamado **int** y de decimales (números de punto flotante) como instancias de **float**. La función integrada **type()** de Python devuelve el tipo de datos de una variable. El código siguiente da como resultado tipos de datos:"
   ]
  },
  {
   "cell_type": "code",
   "execution_count": 20,
   "metadata": {
    "id": "JrsCg5sosRxa"
   },
   "outputs": [
    {
     "name": "stdout",
     "output_type": "stream",
     "text": [
      "<class 'int'>\n",
      "<class 'float'>\n"
     ]
    }
   ],
   "source": [
    "x = 1\n",
    "print(type(x)) # outputs: <class 'int'>\n",
    "\n",
    "x = 1.0\n",
    "print(type(x)) # outputs: <class 'float'>"
   ]
  },
  {
   "cell_type": "markdown",
   "metadata": {
    "id": "JrsCg5sosRxa"
   },
   "source": [
    "La incorporación de .0 al final de 1 supone una gran diferencia en cómo trata el lenguaje de programación a un valor. El tipo de datos afecta a cómo se almacena el valor en la memoria, cómo controla los datos el procesador (CPU) al evaluar expresiones, cómo unos datos se relacionan con otros y qué tipos de operaciones puede realizar.\n",
    "\n",
    "## Trabajo con valores booleanos\n",
    "Otro tipo de datos habitual es el tipo booleano, que contiene el valor **True** o **False**:"
   ]
  },
  {
   "cell_type": "code",
   "execution_count": 21,
   "metadata": {
    "id": "JrsCg5sosRxa"
   },
   "outputs": [
    {
     "name": "stdout",
     "output_type": "stream",
     "text": [
      "<class 'bool'>\n"
     ]
    }
   ],
   "source": [
    "x = True\n",
    "print(type(x)) # outputs: <class 'bool'>"
   ]
  },
  {
   "cell_type": "markdown",
   "metadata": {
    "id": "JrsCg5sosRxa"
   },
   "source": [
    "Internamente, bool se trata como un tipo especial de entero. Técnicamente, True tiene un valor de 1 y False tiene un valor de 0. Normalmente, los valores booleanos no se usan para realizar operaciones matemáticas, sino que se usan para tomar decisiones y realizar una bifurcación. No obstante, es interesante comprender la relación entre los tipos. Muchos tipos no son más que versiones especializadas de tipos más generales. Los enteros son un subconjunto de los números de punto flotante y los valores booleanos son un subconjunto de los enteros.\n",
    "\n",
    "## Trabajo con cadenas\n",
    "Las cadenas son, junto con los números, uno de los tipos de datos más usados. Una cadena es una colección de cero o más caracteres. Las cadenas se declaran normalmente mediante comillas simples, pero también puede utilizar comillas dobles:"
   ]
  },
  {
   "cell_type": "code",
   "execution_count": 22,
   "metadata": {
    "id": "JrsCg5sosRxa"
   },
   "outputs": [
    {
     "name": "stdout",
     "output_type": "stream",
     "text": [
      "Esto es una cadena de texto\n",
      "<class 'str'>\n"
     ]
    }
   ],
   "source": [
    "x = 'Esto es una cadena de texto'\n",
    "print(x) # outputs: This is a string\n",
    "print(type(x)) # outputs: <class 'str'>\n",
    "y = \"Esto también es una cadena texto\""
   ]
  },
  {
   "cell_type": "markdown",
   "metadata": {
    "id": "JrsCg5sosRxa"
   },
   "source": [
    "Puede agregar cadena a otras cadenas (una operación que se conoce como \"concatenación\") con el mismo operador + que suma dos números:"
   ]
  },
  {
   "cell_type": "code",
   "execution_count": 23,
   "metadata": {
    "id": "JrsCg5sosRxa"
   },
   "outputs": [
    {
     "name": "stdout",
     "output_type": "stream",
     "text": [
      "Hello World!\n"
     ]
    }
   ],
   "source": [
    "x = 'Hello' + ' ' + 'World!'\n",
    "print(x) # outputs: Hello World!"
   ]
  },
  {
   "cell_type": "markdown",
   "metadata": {
    "id": "JrsCg5sosRxa"
   },
   "source": [
    "Aprenderá más acerca de las cadenas en otra lección, incluido cómo analizarlas y manipularlas de varias maneras. También aprenderá sobre otros tipos de datos importantes, como listas, que almacenan colecciones de datos y normalmente se usan para retener colecciones de cadenas.\n",
    "\n",
    "# Impresión en la consola\n",
    "En Python, la función print, que es una de más de 60 funciones integradas en el lenguaje, genera texto en la pantalla.\n",
    "\n",
    "La siguiente instrucción muestra \"Hola mundo!\" en la pantalla:"
   ]
  },
  {
   "cell_type": "code",
   "execution_count": 24,
   "metadata": {
    "id": "JrsCg5sosRxa"
   },
   "outputs": [
    {
     "name": "stdout",
     "output_type": "stream",
     "text": [
      "Hola mundo!\n"
     ]
    }
   ],
   "source": [
    "print('Hola mundo!')"
   ]
  },
  {
   "cell_type": "markdown",
   "metadata": {
    "id": "JrsCg5sosRxa"
   },
   "source": [
    "El argumento pasado a print es una cadena, que es uno de los tipos de datos fundamentales en Python y que se usa para almacenar y administrar el texto. De forma predeterminada, print genera un carácter de nueva línea al final de la línea, de modo que una llamada posterior a print se inicie en la línea siguiente."
   ]
  },
  {
   "cell_type": "code",
   "execution_count": 25,
   "metadata": {
    "id": "Krl4EG6UsRSc"
   },
   "outputs": [
    {
     "name": "stdout",
     "output_type": "stream",
     "text": [
      "Hello World!\n"
     ]
    }
   ],
   "source": [
    "x = 'Hello' + ' ' + 'World!'\n",
    "print(x) # outputs: Hello World!"
   ]
  }
 ],
 "metadata": {
  "colab": {
   "provenance": [],
   "toc_visible": true
  },
  "kernelspec": {
   "display_name": "Python 3 (ipykernel)",
   "language": "python",
   "name": "python3"
  },
  "language_info": {
   "codemirror_mode": {
    "name": "ipython",
    "version": 3
   },
   "file_extension": ".py",
   "mimetype": "text/x-python",
   "name": "python",
   "nbconvert_exporter": "python",
   "pygments_lexer": "ipython3",
   "version": "3.12.8"
  }
 },
 "nbformat": 4,
 "nbformat_minor": 4
}
