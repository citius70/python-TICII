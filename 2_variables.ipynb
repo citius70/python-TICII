{
 "cells": [
  {
   "cell_type": "markdown",
   "id": "fecfc66f-f232-49b2-8438-dfaf79bd0d10",
   "metadata": {},
   "source": [
    "# 1. Variables\n",
    "En programación 🧑‍💻, una **variable** *es un lugar en la memoria del ordenador donde podemos almacenar un valor*. Podemos darle a la variable cualquier nombre que elijamos, siempre y cuando siga ciertas reglas (en Python, debe comenzar con una letra o guion bajo y no puede contener espacios). Luego podemos usar este nombre para recuperar el valor más tarde.\n",
    "\n",
    "Se puede imaginar una variable como una caja en la memoria del ordenador donde puedes almacenar un solo valor. Si quieres usar ese valor, tienes que referirte a la caja por su etiqueta.\n",
    "<image src=\"https://lh5.googleusercontent.com/X4FvFQYIxMkJj5Jtt2skF858g08V1SEBNLcnhT0DerFHSbY_F1ujvokMvwB6FqEOKaXpCKUFzJO-ZIzzsVHVX-fROsbAXturWQlMVmPl6Xumf_NYTa2cpPFvCHzDp7TGC0JPBAMWdY_gUdcqDd4qn1M\" alt=\"Descripción de la imagen\">"
   ]
  },
  {
   "attachments": {},
   "cell_type": "markdown",
   "id": "2f2250c4-0722-4963-8c10-07190422d13d",
   "metadata": {},
   "source": [
    "<img src=\"https://lh5.googleusercontent.com/X4FvFQYIxMkJj5Jtt2skF858g08V1SEBNLcnhT0DerFHSbY_F1ujvokMvwB6FqEOKaXpCKUFzJO-ZIzzsVHVX-fROsbAXturWQlMVmPl6Xumf_NYTa2cpPFvCHzDp7TGC0JPBAMWdY_gUdcqDd4qn1M\" style=\"height:100px\" />"
   ]
  },
  {
   "cell_type": "code",
   "execution_count": 1,
   "id": "0b1d0416-be1f-4ed2-9d75-9d9f6322dfc4",
   "metadata": {},
   "outputs": [],
   "source": [
    "myNum = 4"
   ]
  },
  {
   "cell_type": "markdown",
   "id": "91a231d8-4af9-43fb-ab56-c4f78728c7dd",
   "metadata": {},
   "source": [
    "En este caso, `myNum` es el nombre de la variable, y `4` es el valor que estamos asignándole.\n",
    "\n",
    "La idea es que las variables nos ayuden a almacenar información que necesitemos volver a consultar y/o cambiar en el tiempo. Por ejemplo podemos crear esta variable para almacenar el precio actual del dólar respecto al euro"
   ]
  },
  {
   "cell_type": "code",
   "execution_count": 2,
   "id": "39ffe29e-4387-416a-a60d-86aad07f93f8",
   "metadata": {},
   "outputs": [],
   "source": [
    "USDtoEUR = 0.94"
   ]
  },
  {
   "cell_type": "markdown",
   "id": "c2567853-4380-484e-8d84-92fbc69e7f78",
   "metadata": {},
   "source": [
    "O esta respecto al nombre del cliente que actualmente estamos atendiendo. Fíjate como los valores de tipo texto se escriben entre **comillas**."
   ]
  },
  {
   "cell_type": "code",
   "execution_count": 3,
   "id": "1c468f85-7b6b-42f2-af01-5926139cbaa0",
   "metadata": {},
   "outputs": [],
   "source": [
    "cliente = \"Mauricio\""
   ]
  },
  {
   "cell_type": "markdown",
   "id": "84729896-9dce-47bc-a32c-b07ecefb8ae7",
   "metadata": {},
   "source": [
    "O algo más complicado como alguna estructura de datos, lo cual veremos en la parte 4 de esta guía. Por ejemplo podemos almacenar los empleados actuales de una empresa en una lista."
   ]
  },
  {
   "cell_type": "code",
   "execution_count": 4,
   "id": "66b0e514-6502-4ce8-b8d7-a0c565d1e962",
   "metadata": {},
   "outputs": [],
   "source": [
    "empleados = [\"Alberto\", \"Sebastián\", \"María\", \"Ignacio\", \"Isabel\", \"Eduardo\"]"
   ]
  },
  {
   "cell_type": "markdown",
   "id": "48dc9bc8-808b-4ad3-a7ba-89889435d5d5",
   "metadata": {},
   "source": [
    "## 1.1. Reglas para nombrar una variable\n",
    "Durante el uso de Python, vas a tener que nombrar variables y funciones con frecuencia. No obstante, existen ciertas reglas y buenas prácticas para seguir.\n",
    "\n",
    "Algunas de ellas son obligatorias (impuestas por el lenguaje), y otras son simplemente convenciones que puedes seguir.\n",
    "\n",
    "Vamos a ver las reglas y buenas prácticas para nombrar variables en Python.\n",
    "\n",
    "### 1.1.1. Reglas Específicas\n",
    "- **Case Sentitive**: Los nombres de variables en Python son sensibles a mayúsculas y minúsculas. Por ejemplo, variable, Variable y VARIABLE son consideradas diferentes.\n",
    "\n",
    "- **Inicio de Nombre**: El nombre de la variable debe comenzar con una letra (a-z, A-Z) o un guión bajo (_). No debe comenzar con números ni otros caracteres."
   ]
  },
  {
   "cell_type": "code",
   "execution_count": 5,
   "id": "64f56c2e-9847-4e13-bcc2-23a7ddfb123f",
   "metadata": {},
   "outputs": [
    {
     "ename": "SyntaxError",
     "evalue": "invalid decimal literal (1264830680.py, line 3)",
     "output_type": "error",
     "traceback": [
      "\u001b[1;36m  Cell \u001b[1;32mIn[5], line 3\u001b[1;36m\u001b[0m\n\u001b[1;33m    1variable = \"Error\"  # Incorrecto, no debe comenzar con un número\u001b[0m\n\u001b[1;37m    ^\u001b[0m\n\u001b[1;31mSyntaxError\u001b[0m\u001b[1;31m:\u001b[0m invalid decimal literal\n"
     ]
    }
   ],
   "source": [
    "variable = 42\n",
    "_variable_privada = \"Python\"\n",
    "1variable = \"Error\"  # Incorrecto, no debe comenzar con un número"
   ]
  },
  {
   "cell_type": "markdown",
   "id": "fa86c97d-eb5a-46ab-8248-bd915642cf91",
   "metadata": {},
   "source": [
    "- **Caracteres Permitidos**: Los nombres de variables pueden contener letras (a-z, A-Z), dígitos (0-9) y guiones bajos (_). No se permiten otros caracteres especiales como espacios, signos de puntuación o símbolos."
   ]
  },
  {
   "cell_type": "code",
   "execution_count": null,
   "id": "e13038a2-7557-46f9-96b0-59a8aa165a3e",
   "metadata": {},
   "outputs": [],
   "source": [
    "mi_variable = \"Python\"\n",
    "edad3 = 30\n",
    "mi_variable@ = \"Error\"  # Incorrecto, no se permite el símbolo @"
   ]
  },
  {
   "cell_type": "markdown",
   "id": "de5b26c7-5e5c-4fb4-a119-26e4607dbb4c",
   "metadata": {},
   "source": [
    "- **Palabras Reservadas**: No se pueden utilizar palabras reservadas de Python como nombres de variables. Por ejemplo, if, else, for, while, entre otras."
   ]
  },
  {
   "cell_type": "code",
   "execution_count": null,
   "id": "ae5c498b-c790-42e5-a84c-7e6daf5df031",
   "metadata": {},
   "outputs": [],
   "source": [
    "if = 10  # Incorrecto, if es una palabra reservada\n",
    "mi_if = 10  # Correcto, añadiendo prefijo o sufijo a la palabra reservada"
   ]
  },
  {
   "cell_type": "markdown",
   "id": "9c88f1c3-a556-4cff-9ec6-7e6d953c3078",
   "metadata": {},
   "source": [
    "- **Legibilidad y Significado**: Es importante elegir nombres de variables que sean descriptivos y reflejen su uso en el contexto del programa. Esto mejora la legibilidad y comprensión del código."
   ]
  },
  {
   "cell_type": "code",
   "execution_count": null,
   "id": "78ab602e-8388-44f4-aeee-9250fc7122ba",
   "metadata": {},
   "outputs": [],
   "source": [
    "total_compras = 100\n",
    "num = 100  # Menos descriptivo, se desconoce el propósito"
   ]
  },
  {
   "cell_type": "markdown",
   "id": "2fc870db-8334-4346-b50b-32b47842b3e3",
   "metadata": {},
   "source": [
    "A continuación veremos los ejemplos más básicos de los **tipos de datos** que podemos almacenar."
   ]
  },
  {
   "cell_type": "markdown",
   "id": "7a4cbafa-08ed-4714-a198-f3c97c56e56b",
   "metadata": {},
   "source": [
    "### 1.1.2 Convenciones de Estilo\n",
    "Python PEP 8 (Guía de Estilo para el Código Python) sugiere convenciones adicionales para mejorar la legibilidad del código:\n",
    "- **snake_case**: Para nombres de variables, funciones y métodos. Por ejemplo, `mi_variable`, `calcular_total`.\n",
    "- **CamelCase**: Para nombres de clases en Python. Por ejemplo, `MiClase`, `MiClaseEspecial`.\n",
    "   "
   ]
  },
  {
   "cell_type": "code",
   "execution_count": null,
   "id": "cbe794b0-b292-4d7e-9d81-7fa81a2c8cbe",
   "metadata": {},
   "outputs": [],
   "source": [
    "Ejemplos de snake_case\n",
    "nombre_completo = \"Luis Pérez\"\n",
    "calcular_total = lambda x, y: x + y\n",
    "\n",
    "Ejemplos de CamelCase (para nombres de clases)\n",
    "class MiClase:\n",
    "    def __init__(self):\n",
    "        self.atributo = None"
   ]
  },
  {
   "cell_type": "markdown",
   "id": "a5c0635e-4f05-408f-80a0-d4cfc5e99869",
   "metadata": {},
   "source": [
    "Mayúsculas para el caso de constantes, separadas por guiones bajos, siguiendo el estilo CONSTANTE_DE_EJEMPLO."
   ]
  },
  {
   "cell_type": "markdown",
   "id": "59210f8e-be7d-49a8-8e15-b69a476bba0a",
   "metadata": {},
   "source": [
    "# 2. Tipos de datos\n",
    "El valor que asignas a una variable puede ser de muchos tipos diferentes, y el tipo determina qué tipo de operaciones puedes realizar con el valor. Estos son algunos de los tipos de datos más comunes:\n",
    "\n",
    "## Entero o Integer\n",
    "Un entero es un número completo (sin un punto decimal). Puede ser positivo o negativo. Por ejemplo:"
   ]
  },
  {
   "cell_type": "code",
   "execution_count": null,
   "id": "4fa7c852-d1c0-4d80-827f-f0475973f874",
   "metadata": {},
   "outputs": [],
   "source": [
    "myInteger = 5\n",
    "myNegativeInteger = -3"
   ]
  },
  {
   "cell_type": "markdown",
   "id": "9bd63ff0-3c8a-4908-8230-0ff4d0f03ec5",
   "metadata": {},
   "source": [
    "Nótese que la traducción de \"entero\" a ingles es integer."
   ]
  },
  {
   "cell_type": "markdown",
   "id": "d059c57d-5967-4346-bedd-5e52c18940f1",
   "metadata": {},
   "source": [
    "## Flotante\n",
    "Un flotante es un número que incluye un punto decimal. Puede ser positivo o negativo. Por ejemplo:"
   ]
  },
  {
   "cell_type": "code",
   "execution_count": null,
   "id": "607b958d-e3bb-43de-bcd7-324dceaab42a",
   "metadata": {},
   "outputs": [],
   "source": [
    "myFloat = 3.14\n",
    "myNegativeFloat = -0.01"
   ]
  },
  {
   "cell_type": "markdown",
   "id": "edc831bd-c5e0-4b0f-aa22-a68a3adadb39",
   "metadata": {},
   "source": [
    "Cabe destacar que el separador de decimales es el punto en lugar de la coma."
   ]
  },
  {
   "cell_type": "markdown",
   "id": "3c723718-4036-41ac-bc7f-faf51894126d",
   "metadata": {},
   "source": [
    "## Cadena o String\n",
    "Una cadena es una secuencia de caracteres, o también mas comúnmente conocido como un texto. En Python, puedes crear una cadena encerrando caracteres entre comillas simples (') o comillas dobles (\"). Por ejemplo:"
   ]
  },
  {
   "cell_type": "code",
   "execution_count": null,
   "id": "d9c2142f-ccb9-42f7-9208-451cd2f4a64d",
   "metadata": {},
   "outputs": [],
   "source": [
    "myString = '¡Hola, mundo!'\n",
    "anotherString = \"¡Python es divertido!\""
   ]
  },
  {
   "cell_type": "markdown",
   "id": "4b815cf2-a17c-4916-8fb7-dbc9846ae643",
   "metadata": {},
   "source": [
    "### Concatenar cadenas\n",
    "\n",
    "Puedes unir una cadena con otra, a ello se le llama concatenar. Una manera común de hacerlo es usando el símbolo + entre dos cadenas de texto."
   ]
  },
  {
   "cell_type": "code",
   "execution_count": null,
   "id": "ce2a5b2d-8375-482c-975a-d1fa6d2fea2a",
   "metadata": {},
   "outputs": [],
   "source": [
    "años = 34\n",
    "mensaje = \"tengo \" + str(años) + \" años de edad\""
   ]
  },
  {
   "cell_type": "markdown",
   "id": "85dd1069-aa0e-4458-be0f-219c455a7716",
   "metadata": {},
   "source": [
    "Nótese como tuvimos que forzar a que la variable anios fuera un String, usando la función str. Hablaremos de esto más adelante en la guía."
   ]
  },
  {
   "cell_type": "markdown",
   "id": "4eb0c83e-6924-42a2-801b-c414b2aa549b",
   "metadata": {},
   "source": [
    "## Booleano\n",
    "Un booleano es un tipo que solo puede tener uno de dos valores: Verdadero o Falso. Los booleanos a menudo se usan en condiciones, como en una declaración if. Por ejemplo:"
   ]
  },
  {
   "cell_type": "code",
   "execution_count": null,
   "id": "4d970901-1031-4ada-8e60-4f5b49c8e088",
   "metadata": {},
   "outputs": [],
   "source": [
    "isTrue = True\n",
    "isFalse = False"
   ]
  },
  {
   "cell_type": "markdown",
   "id": "fa507f9d-6b3e-43c7-8dcb-2f7bac9168f3",
   "metadata": {},
   "source": [
    "Pon atención en el hecho de que True y False empiezan con mayúsculas. Esto es distinto en otros lenguajes de programación."
   ]
  },
  {
   "cell_type": "markdown",
   "id": "41384204-722f-4b13-b2cd-d7f63d72aba9",
   "metadata": {},
   "source": [
    "## 2.1. Convirtiendo Entre Tipos\n",
    "En Python, puedes convertir valores entre diferentes tipos utilizando funciones como int(), float(), y str(). Sin embargo, no todas las conversiones están permitidas - por ejemplo, no puedes convertir el string \"hola\" a un entero.\n",
    "\n",
    "Aquí hay un ejemplo de cómo convertir un flotante a un entero:"
   ]
  },
  {
   "cell_type": "code",
   "execution_count": null,
   "id": "60c13a41-b447-4b09-843e-8c21b0c8e0b1",
   "metadata": {},
   "outputs": [],
   "source": [
    "myFloat = 3.14\n",
    "myInteger = int(myFloat) # Esto nos dará el valor 3"
   ]
  },
  {
   "cell_type": "markdown",
   "id": "1ba847f2-6c84-4971-823e-168fa665d78b",
   "metadata": {},
   "source": [
    "Nota que cuando conviertes un flotante a un entero en Python, no redondea al número entero más cercano - siempre trunca.\n",
    "\n",
    "Aquí hay otro ejemplo usando la función str():"
   ]
  },
  {
   "cell_type": "code",
   "execution_count": null,
   "id": "973f442c-7183-440f-a3b6-af3c4428b006",
   "metadata": {},
   "outputs": [],
   "source": [
    "myInteger = 10\n",
    "print(\"La variable myInteger es de tipo: \" + str(type(myInteger))) # output: La variable myInteger es de tipo: <class 'int'>"
   ]
  },
  {
   "cell_type": "markdown",
   "id": "3b85ea8a-5917-40fd-b613-27978af1c20c",
   "metadata": {},
   "source": [
    "## 2.2. Obteniendo el tipo de las variables\n",
    "¿Viste eso de type() que usamos en el último código?\n",
    "\n",
    "En Python, si alguna vez te encuentras en una situación en la que no estás seguro del tipo de una variable o simplemente deseas verificarlo, puedes utilizar la función type(). Esta función devuelve el tipo de la variable que le pases como argumento.\n",
    "\n",
    "Por ejemplo, si tienes una variable que es un string y quieres confirmar que es así:"
   ]
  },
  {
   "cell_type": "code",
   "execution_count": null,
   "id": "9102c338-e03b-4574-91d5-fc9a13312630",
   "metadata": {},
   "outputs": [],
   "source": [
    "myString = \"¡Hola, Python!\"\n",
    "print(type(myString))"
   ]
  },
  {
   "cell_type": "markdown",
   "id": "b34ef159-abb2-4bf7-bcc4-d00a86505977",
   "metadata": {},
   "source": [
    "Al ejecutar el código anterior, obtendrías la salida <class 'str'>, lo que indica que la variable myString es de tipo cadena (o str en inglés).\n",
    "\n",
    "Del mismo modo, si tienes un número entero:"
   ]
  },
  {
   "cell_type": "code",
   "execution_count": null,
   "id": "5e4c25af-814e-4670-ae6c-77eb776c144e",
   "metadata": {},
   "outputs": [],
   "source": [
    "myInteger = 42\n",
    "print(type(myInteger))"
   ]
  },
  {
   "cell_type": "markdown",
   "id": "78fbac33-cf1f-4279-b4c9-1aba16b7b04c",
   "metadata": {},
   "source": [
    "El resultado sería <class 'int'>, confirmando que es un número entero.\n",
    "\n",
    "Es importante resaltar que type() es extremadamente útil para la depuración y para entender mejor el comportamiento de tu código, especialmente cuando trabajas con funciones o librerías que pueden devolver diferentes tipos de datos."
   ]
  },
  {
   "cell_type": "markdown",
   "id": "d9bcc12a-7cb6-474e-94a7-80f228421a44",
   "metadata": {},
   "source": [
    "# 3. Operaciones matemáticas\n",
    "Operaciones Matemáticas En Python, hay varios operadores que te permiten realizar operaciones matemáticas básicas:\n",
    "\n",
    "1. Suma (+): Este operador suma dos números. Por ejemplo, 5 + 3 es igual a 8.\n",
    "2. Resta (-): Este operador resta el segundo número del primero. Por ejemplo, 10 - 7 es igual a 3.\n",
    "3. Multiplicación (*): Este operador multiplica dos números. Por ejemplo, 2 * 3 es igual a 6.\n",
    "4. División (/): Este operador divide el primer número entre el segundo. Por ejemplo, 10 / 2 es igual a 5.\n",
    "5. Módulo (%): Este operador da el residuo de una división. Por ejemplo, 10 % 3 es igual a 1 porque 10 dividido por 3 deja un residuo de 1.\n",
    "Por ejemplo, 2**3 es igual a 8 porque 2 elevado a la potencia de 3 es 8. De modo alternativo, se puede usar la función pow, ve un ejemplo en el código más abajo."
   ]
  },
  {
   "cell_type": "code",
   "execution_count": null,
   "id": "4f6f0e38-90ee-4854-809d-5802fca9ff1b",
   "metadata": {},
   "outputs": [],
   "source": [
    "NumA = 2\n",
    "NumB = 3"
   ]
  },
  {
   "cell_type": "code",
   "execution_count": null,
   "id": "5865d0e1-430c-4a39-b754-806892df90bc",
   "metadata": {},
   "outputs": [],
   "source": [
    "# Suma\n",
    "NumB + NumA # output: 5"
   ]
  },
  {
   "cell_type": "code",
   "execution_count": null,
   "id": "3ac597b1-d1c1-447d-9d39-8bbea0bb0abf",
   "metadata": {},
   "outputs": [],
   "source": [
    "# Resta\n",
    "NumB - NumA # output: 1"
   ]
  },
  {
   "cell_type": "code",
   "execution_count": null,
   "id": "12cfa390-d1c5-4af9-bb8b-412b7c454556",
   "metadata": {},
   "outputs": [],
   "source": [
    "# Multiplicación\n",
    "NumB * NumA # output: 6"
   ]
  },
  {
   "cell_type": "code",
   "execution_count": null,
   "id": "bb54e951-5e4e-431a-917e-275f27f00ebb",
   "metadata": {},
   "outputs": [],
   "source": [
    "# Division\n",
    "NumB / NumA # output : 1.5"
   ]
  },
  {
   "cell_type": "code",
   "execution_count": null,
   "id": "1950b9b9-f1ca-4753-8a9a-b9dbaf21ba2c",
   "metadata": {},
   "outputs": [],
   "source": [
    "# Modulo\n",
    "NumB % NumA # output: 1"
   ]
  },
  {
   "cell_type": "code",
   "execution_count": null,
   "id": "3c3f60e8-f9a2-4920-a81a-6a632051bdf3",
   "metadata": {},
   "outputs": [],
   "source": [
    "# Exponenciación\n",
    "NumB**NumA # output 9"
   ]
  },
  {
   "cell_type": "code",
   "execution_count": null,
   "id": "d444851b-a3c2-4349-87ca-5e7b260562fa",
   "metadata": {},
   "outputs": [],
   "source": [
    "# Exponente con pow()\n",
    "pow(NumB, NumA) # output 9"
   ]
  },
  {
   "cell_type": "markdown",
   "id": "4d169b11-fffb-41ab-a5f4-0298696ca250",
   "metadata": {},
   "source": [
    "# Cierre\n",
    "En las siguientes partes veremos como podemos mostrarle información al usuario con la función print(), cómo podemos traer datos del entorno exterior a nuestro programa con la función input(), y que son las funciones."
   ]
  }
 ],
 "metadata": {
  "kernelspec": {
   "display_name": "Python 3 (ipykernel)",
   "language": "python",
   "name": "python3"
  },
  "language_info": {
   "codemirror_mode": {
    "name": "ipython",
    "version": 3
   },
   "file_extension": ".py",
   "mimetype": "text/x-python",
   "name": "python",
   "nbconvert_exporter": "python",
   "pygments_lexer": "ipython3",
   "version": "3.12.8"
  }
 },
 "nbformat": 4,
 "nbformat_minor": 5
}
