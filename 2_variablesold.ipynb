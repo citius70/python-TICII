{
 "cells": [
  {
   "cell_type": "markdown",
   "id": "9004f6d4-d1ea-45d7-a38c-d04d0e60e95d",
   "metadata": {},
   "source": [
    "# Ejercicio: Salida\n",
    "\n",
    "En este ejercicio usará REPL para declarar variables y ejecutar instrucciones.\n",
    "\n",
    "## Prueba de la primera instrucción de Python\n",
    "Python es compatible con una experiencia de consola interactiva que permite escribir en comandos y ver los resultados inmediatamente.\n",
    "1. En la consola de Cloud Shell, escriba **python** para iniciar el intérprete de Python en el modo interactivo."
   ]
  },
  {
   "cell_type": "code",
   "execution_count": null,
   "id": "cf800a40-4582-4443-bf9f-d85de066d648",
   "metadata": {},
   "outputs": [],
   "source": [
    "python"
   ]
  },
  {
   "cell_type": "markdown",
   "id": "477470fb-abbb-4bcd-80ac-b340c43969f5",
   "metadata": {},
   "source": [
    "Debería ver una salida similar a:"
   ]
  },
  {
   "cell_type": "raw",
   "id": "b934c9b1-7e0b-4b6e-af3b-2db7b8403a9d",
   "metadata": {},
   "source": [
    "Python 3.9.14 (main, Oct 29 2022, 22:18:10)\n",
    "[GCC 11.2.0] on linux\n",
    "Type \"help\", \"copyright\", \"credits\" or \"license\" for more information.\n",
    ">>>"
   ]
  },
  {
   "cell_type": "markdown",
   "id": "98bca0c6-8b6f-4618-b1f6-e0f6352b4cb0",
   "metadata": {},
   "source": [
    ">>> es el intérprete que está esperando a que escriba un comando de Python."
   ]
  },
  {
   "cell_type": "markdown",
   "id": "c77a1562-db6b-41d4-997f-cdb6f56eb432",
   "metadata": {
    "jupyter": {
     "source_hidden": true
    }
   },
   "source": [
    "2. Escriba la instrucción siguiente en el intérprete."
   ]
  },
  {
   "cell_type": "code",
   "execution_count": null,
   "id": "972bfaa9-607e-4cc8-a8df-24c1e8261823",
   "metadata": {},
   "outputs": [],
   "source": [
    "print('Hello World!')"
   ]
  },
  {
   "cell_type": "code",
   "execution_count": null,
   "id": "8f03d0b9-3e58-4920-9f5f-aaee907def65",
   "metadata": {},
   "outputs": [],
   "source": [
    "La instrucción debe devolver directamente el texto y, después, crear otro aviso esperando el comando siguiente."
   ]
  },
  {
   "cell_type": "raw",
   "id": "fee81c43-be93-4182-a025-b1cf45f53827",
   "metadata": {},
   "source": [
    "Hello World!\n",
    ">>>"
   ]
  },
  {
   "cell_type": "markdown",
   "id": "623183fa-3288-4270-8621-27638e405e4b",
   "metadata": {},
   "source": [
    "## Declaración y generación de variables\n",
    "Con REPL en ejecución, vamos a crear variables a continuación.\n",
    "\n",
    "Escriba el código siguiente para declarar una variable:"
   ]
  },
  {
   "cell_type": "code",
   "execution_count": 2,
   "id": "024b4af4-971d-4a74-a85f-54035817ccfe",
   "metadata": {},
   "outputs": [],
   "source": [
    "PI = 3.14"
   ]
  },
  {
   "cell_type": "markdown",
   "id": "5f480fed-df12-4cb4-8926-8e886c48acd1",
   "metadata": {},
   "source": [
    "Escriba el nombre de la variable PI para repetir su valor:"
   ]
  },
  {
   "cell_type": "code",
   "execution_count": 3,
   "id": "f631ceaa-64df-4093-a0e1-4e9daa19cf5c",
   "metadata": {},
   "outputs": [
    {
     "data": {
      "text/plain": [
       "3.14"
      ]
     },
     "execution_count": 3,
     "metadata": {},
     "output_type": "execute_result"
    }
   ],
   "source": [
    "PI"
   ]
  },
  {
   "cell_type": "markdown",
   "id": "b5bb5570-4d43-4661-a128-df99294a65ef",
   "metadata": {},
   "source": [
    "La salida debe mostrar su valor:"
   ]
  },
  {
   "cell_type": "raw",
   "id": "5accd22a-12e6-454e-a54e-ed5bba9f4f89",
   "metadata": {},
   "source": [
    "3.14"
   ]
  }
 ],
 "metadata": {
  "kernelspec": {
   "display_name": "Python 3 (ipykernel)",
   "language": "python",
   "name": "python3"
  },
  "language_info": {
   "codemirror_mode": {
    "name": "ipython",
    "version": 3
   },
   "file_extension": ".py",
   "mimetype": "text/x-python",
   "name": "python",
   "nbconvert_exporter": "python",
   "pygments_lexer": "ipython3",
   "version": "3.12.8"
  }
 },
 "nbformat": 4,
 "nbformat_minor": 5
}
