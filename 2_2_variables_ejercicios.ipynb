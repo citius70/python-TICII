{
 "cells": [
  {
   "cell_type": "markdown",
   "id": "3d10e06c-622d-42e3-bced-96ed9fae5f3f",
   "metadata": {},
   "source": [
    "# Ejercicios de Asignación de Variables en Python\n",
    "\n",
    "En este notebook, practicarás la asignación de variables en Python. Completa los ejercicios a continuación."
   ]
  },
  {
   "cell_type": "markdown",
   "id": "1ae29fb6-7d06-4c2a-ae4b-c1e13724ce46",
   "metadata": {},
   "source": [
    "## Ejercicio 1: Asignación de un Número\n",
    "\n",
    "Crea una variable llamada `edad` y asígnale tu edad. Luego, muestra el valor de la variable.\n",
    "\n",
    "```python\n",
    "# Escribe tu código aquí\n",
    "edad = 25  # Cambia 25 por tu edad\n",
    "edad"
   ]
  },
  {
   "cell_type": "markdown",
   "id": "34076fe7-8bfa-43a9-a072-60df87821d0b",
   "metadata": {},
   "source": [
    "\n",
    "## Ejercicio 2: Asignación de un Texto\n",
    "\n",
    "Crea una variable llamada `nombre` y asígnale tu nombre. Luego, muestra el valor de la variable.\n",
    "\n",
    "```python\n",
    "# Escribe tu código aquí\n",
    "nombre = \"Juan\"  # Cambia \"Juan\" por tu nombre\n",
    "nombre"
   ]
  },
  {
   "cell_type": "markdown",
   "id": "24accf13-d1fe-4703-a662-a47c62b04dea",
   "metadata": {},
   "source": [
    "## Ejercicio 3: Asignación de una Lista\n",
    "\n",
    "Crea una variable llamada `frutas` y asígnale una lista de tus frutas favoritas. Luego, muestra el valor de la variable.\n",
    "\n",
    "```python\n",
    "# Escribe tu código aquí\n",
    "frutas = [\"manzana\", \"banana\", \"naranja\"]  # Agrega tus frutas favoritas\n",
    "frutas"
   ]
  },
  {
   "cell_type": "markdown",
   "id": "365044d3-5f2c-47e7-91d9-dcb1e85a1318",
   "metadata": {},
   "source": [
    "## Ejercicio 4: Asignación de Múltiples Variables\n",
    "\n",
    "Asigna valores a tres variables diferentes: `x`, `y`, y `z`. Luego, muestra el valor de cada variable.\n",
    "\n",
    "```python\n",
    "# Escribe tu código aquí\n",
    "x, y, z = 10, 20, 30  # Asigna valores a x, y, z\n",
    "x, y, z"
   ]
  },
  {
   "cell_type": "markdown",
   "id": "9a6f3c73-cdde-434f-87ff-85b0360ba4ce",
   "metadata": {},
   "source": [
    "## Ejercicio 5: Reasignación de Variables\n",
    "\n",
    "Crea una variable llamada `contador` y asígnale el valor 0. Luego, incrementa su valor en 1 y muestra el nuevo valor.\n",
    "\n",
    "```python\n",
    "# Escribe tu código aquí\n",
    "contador = 0\n",
    "contador += 1  # Incrementa el contador\n",
    "contador"
   ]
  },
  {
   "cell_type": "markdown",
   "id": "7f47d74a-da4a-45b5-b400-d525d8083fc8",
   "metadata": {},
   "source": [
    "## Ejercicio 6: Concatenación de Cadenas\n",
    "\n",
    "Crea dos variables de texto, `saludo` y `nombre`, y luego crea una nueva variable llamada `mensaje` que combine ambas. Muestra el mensaje.\n",
    "\n",
    "```python\n",
    "# Escribe tu código aquí\n",
    "saludo = \"Hola\"\n",
    "nombre = \"Juan\"  # Cambia \"Juan\" por tu nombre\n",
    "mensaje = saludo + \", \" + nombre + \"!\"\n",
    "mensaje"
   ]
  },
  {
   "cell_type": "markdown",
   "id": "29f561cb-8eae-4977-9ac0-32c8964f0560",
   "metadata": {},
   "source": [
    "## Conclusión\n",
    "\n",
    "En este notebook, has practicado la asignación de variables en Python. Puedes intentar crear más variables y experimentar con diferentes tipos de datos."
   ]
  }
 ],
 "metadata": {
  "kernelspec": {
   "display_name": "Python 3 (ipykernel)",
   "language": "python",
   "name": "python3"
  },
  "language_info": {
   "codemirror_mode": {
    "name": "ipython",
    "version": 3
   },
   "file_extension": ".py",
   "mimetype": "text/x-python",
   "name": "python",
   "nbconvert_exporter": "python",
   "pygments_lexer": "ipython3",
   "version": "3.12.8"
  }
 },
 "nbformat": 4,
 "nbformat_minor": 5
}
