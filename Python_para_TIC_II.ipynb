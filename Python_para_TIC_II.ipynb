{
  "nbformat": 4,
  "nbformat_minor": 0,
  "metadata": {
    "colab": {
      "provenance": [],
      "toc_visible": true,
      "authorship_tag": "ABX9TyOoxS8AhgPY926QN+lr/4xV",
      "include_colab_link": true
    },
    "kernelspec": {
      "name": "python3",
      "display_name": "Python 3"
    },
    "language_info": {
      "name": "python"
    }
  },
  "cells": [
    {
      "cell_type": "markdown",
      "metadata": {
        "id": "view-in-github",
        "colab_type": "text"
      },
      "source": [
        "<a href=\"https://colab.research.google.com/github/citius70/python-TICII/blob/main/Python_para_TIC_II.ipynb\" target=\"_parent\"><img src=\"https://colab.research.google.com/assets/colab-badge.svg\" alt=\"Open In Colab\"/></a>"
      ]
    },
    {
      "cell_type": "code",
      "execution_count": null,
      "metadata": {
        "id": "2O5TgfRzjI9g"
      },
      "outputs": [],
      "source": [
        "xcx"
      ]
    },
    {
      "cell_type": "markdown",
      "source": [
        "cxcxcx# jxccsc"
      ],
      "metadata": {
        "id": "Ky4-2wcqjkoe"
      }
    },
    {
      "cell_type": "markdown",
      "source": [
        "# Nueva sección"
      ],
      "metadata": {
        "id": "S4fWekBSjlhQ"
      }
    },
    {
      "cell_type": "markdown",
      "source": [
        "xzczsz"
      ],
      "metadata": {
        "id": "F8rqBkawj1Hu"
      }
    },
    {
      "cell_type": "markdown",
      "source": [
        "# Nueva sección"
      ],
      "metadata": {
        "id": "eUCpmdkbj4wK"
      }
    },
    {
      "cell_type": "markdown",
      "source": [
        "vvcv   vxcvxcvx xv x"
      ],
      "metadata": {
        "id": "mgmKe3flj8IP"
      }
    },
    {
      "cell_type": "markdown",
      "source": [],
      "metadata": {
        "id": "RutXcVcFkfzv"
      }
    },
    {
      "cell_type": "markdown",
      "source": [
        "# Nueva sec zx"
      ],
      "metadata": {
        "id": "98Ao5LpPkz3d"
      }
    },
    {
      "cell_type": "markdown",
      "source": [
        "AAAx"
      ],
      "metadata": {
        "id": "JasERfRCk1Kl"
      }
    }
  ]
}